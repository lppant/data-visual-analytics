{
 "cells": [
  {
   "cell_type": "markdown",
   "metadata": {},
   "source": [
    "# San Francisco Airport arrivals from within California\n",
    "\n",
    "All instructions, code comments, etc. in this notebook are part of project submission for OMSCS Course CSE6242 \n"
   ]
  },
  {
   "cell_type": "markdown",
   "metadata": {},
   "source": [
    "#### Pyspark Imports\n",
    "<span style=\"color:red\">*All the imports required to run the pyspark statements in this notebook*</span>"
   ]
  },
  {
   "cell_type": "code",
   "execution_count": 3,
   "metadata": {},
   "outputs": [],
   "source": [
    "import pyspark\n",
    "from pyspark.sql import SQLContext\n",
    "from pyspark.sql.functions import hour, when, col, date_format, to_timestamp\n",
    "from pyspark.sql.types import StructType, StructField, IntegerType, FloatType, StringType"
   ]
  },
  {
   "cell_type": "markdown",
   "metadata": {},
   "source": [
    "#### Define Spark Context"
   ]
  },
  {
   "cell_type": "code",
   "execution_count": 4,
   "metadata": {},
   "outputs": [],
   "source": [
    "sc = pyspark.SparkContext(appName=\"DVA-CA-Analysis\")\n",
    "sqlContext = SQLContext(sc)"
   ]
  },
  {
   "cell_type": "markdown",
   "metadata": {},
   "source": [
    "#### Functions to load data"
   ]
  },
  {
   "cell_type": "code",
   "execution_count": 5,
   "metadata": {},
   "outputs": [],
   "source": [
    "def load_ca_airport_data():\n",
    "    ca_airports_df = sqlContext.read.option(\"header\",True).csv(\"CA_Airports.csv\")\n",
    "    return ca_airports_df"
   ]
  },
  {
   "cell_type": "code",
   "execution_count": 6,
   "metadata": {},
   "outputs": [],
   "source": [
    "def load_ca_covid_data():\n",
    "    ca_covid_df = sqlContext.read.option(\"header\",True).csv(\"CA_County_Covid.csv\")\n",
    "    return ca_covid_df"
   ]
  },
  {
   "cell_type": "code",
   "execution_count": 7,
   "metadata": {},
   "outputs": [],
   "source": [
    "def load_sfo_arrivals_data():\n",
    "    sfo_arrivals_df = sqlContext.read.option(\"header\",True).csv(\"SFO_Arrivals.csv\")\n",
    "    return sfo_arrivals_df"
   ]
  },
  {
   "cell_type": "code",
   "execution_count": 8,
   "metadata": {
    "scrolled": true
   },
   "outputs": [
    {
     "name": "stdout",
     "output_type": "stream",
     "text": [
      "root\n",
      " |-- City_served: string (nullable = true)\n",
      " |-- FAA: string (nullable = true)\n",
      " |-- IATA: string (nullable = true)\n",
      " |-- ICAO: string (nullable = true)\n",
      " |-- Airport_name: string (nullable = true)\n",
      " |-- Role: string (nullable = true)\n",
      " |-- Enpl.: string (nullable = true)\n",
      " |-- COUNTY: string (nullable = true)\n",
      "\n"
     ]
    }
   ],
   "source": [
    "ca_airports_df = load_ca_airport_data()\n",
    "ca_airports_df.printSchema()"
   ]
  },
  {
   "cell_type": "code",
   "execution_count": 9,
   "metadata": {},
   "outputs": [
    {
     "name": "stdout",
     "output_type": "stream",
     "text": [
      "root\n",
      " |-- COUNTY: string (nullable = true)\n",
      " |-- 14_DAY_AVERAGE: integer (nullable = true)\n",
      "\n"
     ]
    }
   ],
   "source": [
    "ca_covid_df = load_ca_covid_data()\n",
    "ca_covid_df = ca_covid_df.withColumn(\"14_DAY_AVERAGE\", ca_covid_df[\"14_DAY_AVERAGE\"].cast(IntegerType()))\n",
    "ca_covid_df.printSchema()"
   ]
  },
  {
   "cell_type": "code",
   "execution_count": 10,
   "metadata": {
    "scrolled": true
   },
   "outputs": [
    {
     "name": "stdout",
     "output_type": "stream",
     "text": [
      "root\n",
      " |-- TIME: string (nullable = true)\n",
      " |-- FLIGHT: string (nullable = true)\n",
      " |-- FROM_AIRPORT: string (nullable = true)\n",
      " |-- IATA: string (nullable = true)\n",
      " |-- AIRLINE: string (nullable = true)\n",
      " |-- AIRCRAFT: string (nullable = true)\n",
      " |-- STATUS: string (nullable = true)\n",
      "\n"
     ]
    }
   ],
   "source": [
    "sfo_arrivals_df = load_sfo_arrivals_data()\n",
    "sfo_arrivals_df.printSchema()\n"
   ]
  },
  {
   "cell_type": "markdown",
   "metadata": {},
   "source": [
    "##  Enrich County names from where the flight is arriving into San Francisco\n",
    "\n",
    "Join San Francisco Airport arrivals with Califronia Airport data based on IATA column.\n",
    "This will enrich county into all arrivals from within California.   "
   ]
  },
  {
   "cell_type": "code",
   "execution_count": 11,
   "metadata": {},
   "outputs": [],
   "source": [
    "def enrich_county_in_sfo_arrivals(sfo_arrivals_df, ca_airports_df):\n",
    "    '''\n",
    "    input: sfo_arrivals_df a dataframe, ca_airports_df a dataframe\n",
    "    output: county_enriched_sfo_arrivals_df a dataframe with county populated into SFO arrivals\n",
    "    '''\n",
    "    county_enriched_sfo_arrivals_df = sfo_arrivals_df.join(ca_airports_df, on =['IATA'], how='inner')\\\n",
    "    .drop('City_served')\\\n",
    "    .drop('FAA')\\\n",
    "    .drop('ICAO')\\\n",
    "    .drop('Airport_name')\\\n",
    "    .drop('Role')\\\n",
    "    .drop('Enpl.')\n",
    "    \n",
    "    # END YOUR CODE HERE -----------\n",
    "    return county_enriched_sfo_arrivals_df"
   ]
  },
  {
   "cell_type": "code",
   "execution_count": 12,
   "metadata": {},
   "outputs": [],
   "source": [
    "county_enriched_sfo_arrivals_df = enrich_county_in_sfo_arrivals(sfo_arrivals_df, ca_airports_df)"
   ]
  },
  {
   "cell_type": "code",
   "execution_count": 13,
   "metadata": {},
   "outputs": [
    {
     "name": "stdout",
     "output_type": "stream",
     "text": [
      "+----+----+------+----------------+------------------+-------------+---------+---------------+\n",
      "|IATA|TIME|FLIGHT|    FROM_AIRPORT|           AIRLINE|     AIRCRAFT|   STATUS|         COUNTY|\n",
      "+----+----+------+----------------+------------------+-------------+---------+---------------+\n",
      "| LAX|0:30| OZ285|    Los Angeles |   Asiana Airlines|         B741|Scheduled|    Los Angeles|\n",
      "| LAX|0:30| OZ286|    Los Angeles |   Asiana Airlines|         B741|Scheduled|    Los Angeles|\n",
      "| LAX|1:25| KE214|    Los Angeles |        Korean Air|         B744|Scheduled|    Los Angeles|\n",
      "| ONT|7:34|UA5572|        Ontario |    United Express|E75L (N119SY)|Scheduled| San Bernardino|\n",
      "| ACV|7:38|UA5313|         Arcata |    United Express|E75L (N116SY)|Scheduled|       Humboldt|\n",
      "| BFL|7:38|UA5631|    Bakersfield |    United Express|E75L (N621UX)|Scheduled|           Kern|\n",
      "| SBP|7:38|UA5882|San Luis Obispo |    United Express|CRJ2 (N652BR)|Scheduled|San Luis Obispo|\n",
      "| SMF|7:44|UA5324|     Sacramento |    United Express|E75L (N146SY)|Scheduled|     Sacramento|\n",
      "| SBA|7:44|UA5819|  Santa Barbara |    United Express|E75L (N202SY)|Scheduled|  Santa Barbara|\n",
      "| LAX|7:56|AS2120|    Los Angeles |    Alaska Horizon|E75L (N638QX)|Scheduled|    Los Angeles|\n",
      "| LAX|8:25| WN819|    Los Angeles |Southwest Airlines|B737 (N267WN)|Scheduled|    Los Angeles|\n",
      "| SAN|8:26|AS3461|      San Diego |    Alaska SkyWest|E75L (N400SY)|Scheduled|      San Diego|\n",
      "| BUR|8:40| WN261|        Burbank |Southwest Airlines|B737 (N276WN)|Scheduled|    Los Angeles|\n",
      "| SAN|9:10|WN1391|      San Diego |Southwest Airlines|B737 (N553WN)|Scheduled|      San Diego|\n",
      "| PSP|9:20|UA5997|   Palm Springs |    United Express|CRJ2 (N982SW)|Scheduled|      Riverside|\n",
      "| SAN|9:22|UA2480|      San Diego |   United Airlines|B738 (N76526)|Scheduled|      San Diego|\n",
      "| BUR|9:26|UA5276|        Burbank |    United Express|E75L (N128SY)|Scheduled|    Los Angeles|\n",
      "| SNA|9:27|AS3317|      Santa Ana |    Alaska SkyWest|E75L (N195SY)|Scheduled|         Orange|\n",
      "| FAT|9:30|UA5874|         Fresno |    United Express|CRJ2 (N916EV)|Scheduled|         Fresno|\n",
      "| SNA|9:32| UA753|      Santa Ana |   United Airlines|A320 (N468UA)|Scheduled|         Orange|\n",
      "+----+----+------+----------------+------------------+-------------+---------+---------------+\n",
      "only showing top 20 rows\n",
      "\n"
     ]
    }
   ],
   "source": [
    "county_enriched_sfo_arrivals_df.show()"
   ]
  },
  {
   "cell_type": "code",
   "execution_count": 14,
   "metadata": {},
   "outputs": [
    {
     "data": {
      "text/plain": [
       "275"
      ]
     },
     "execution_count": 14,
     "metadata": {},
     "output_type": "execute_result"
    }
   ],
   "source": [
    "\n",
    "sfo_arrivals_df.count()"
   ]
  },
  {
   "cell_type": "code",
   "execution_count": 15,
   "metadata": {
    "scrolled": true
   },
   "outputs": [
    {
     "data": {
      "text/plain": [
       "74"
      ]
     },
     "execution_count": 15,
     "metadata": {},
     "output_type": "execute_result"
    }
   ],
   "source": [
    "county_enriched_sfo_arrivals_df.count()"
   ]
  },
  {
   "cell_type": "code",
   "execution_count": null,
   "metadata": {
    "pycharm": {
     "name": "#%%\n"
    }
   },
   "outputs": [],
   "source": [
    "##  Enrich Covid Measure Type based on county information.\n",
    "\n",
    "\n",
    "Join San Francisco Airport arrivals with County to populate covid measure type"
   ]
  },
  {
   "cell_type": "code",
   "execution_count": 17,
   "metadata": {},
   "outputs": [],
   "source": [
    "covid_measure_enriched_in_sfo_arrivals = enrich_covid_measure_in_sfo_arrivals(county_enriched_sfo_arrivals_df, ca_covid_df)"
   ]
  },
  {
   "cell_type": "code",
   "execution_count": 18,
   "metadata": {},
   "outputs": [
    {
     "name": "stdout",
     "output_type": "stream",
     "text": [
      "+---------------+----+----+------+----------------+------------------+-------------+---------+--------------+------------------+\n",
      "|         COUNTY|IATA|TIME|FLIGHT|    FROM_AIRPORT|           AIRLINE|     AIRCRAFT|   STATUS|14_DAY_AVERAGE|COVID_MEASURE_TYPE|\n",
      "+---------------+----+----+------+----------------+------------------+-------------+---------+--------------+------------------+\n",
      "|    Los Angeles| LAX|0:30| OZ285|    Los Angeles |   Asiana Airlines|         B741|Scheduled|          1434|              High|\n",
      "|    Los Angeles| LAX|0:30| OZ286|    Los Angeles |   Asiana Airlines|         B741|Scheduled|          1434|              High|\n",
      "|    Los Angeles| LAX|1:25| KE214|    Los Angeles |        Korean Air|         B744|Scheduled|          1434|              High|\n",
      "| San Bernardino| ONT|7:34|UA5572|        Ontario |    United Express|E75L (N119SY)|Scheduled|           420|              High|\n",
      "|       Humboldt| ACV|7:38|UA5313|         Arcata |    United Express|E75L (N116SY)|Scheduled|             2|               Low|\n",
      "|           Kern| BFL|7:38|UA5631|    Bakersfield |    United Express|E75L (N621UX)|Scheduled|            92|            Medium|\n",
      "|San Luis Obispo| SBP|7:38|UA5882|San Luis Obispo |    United Express|CRJ2 (N652BR)|Scheduled|            31|            Medium|\n",
      "|     Sacramento| SMF|7:44|UA5324|     Sacramento |    United Express|E75L (N146SY)|Scheduled|           162|              High|\n",
      "|  Santa Barbara| SBA|7:44|UA5819|  Santa Barbara |    United Express|E75L (N202SY)|Scheduled|            26|            Medium|\n",
      "|    Los Angeles| LAX|7:56|AS2120|    Los Angeles |    Alaska Horizon|E75L (N638QX)|Scheduled|          1434|              High|\n",
      "|    Los Angeles| LAX|8:25| WN819|    Los Angeles |Southwest Airlines|B737 (N267WN)|Scheduled|          1434|              High|\n",
      "|      San Diego| SAN|8:26|AS3461|      San Diego |    Alaska SkyWest|E75L (N400SY)|Scheduled|           371|              High|\n",
      "|    Los Angeles| BUR|8:40| WN261|        Burbank |Southwest Airlines|B737 (N276WN)|Scheduled|          1434|              High|\n",
      "|      San Diego| SAN|9:10|WN1391|      San Diego |Southwest Airlines|B737 (N553WN)|Scheduled|           371|              High|\n",
      "|      Riverside| PSP|9:20|UA5997|   Palm Springs |    United Express|CRJ2 (N982SW)|Scheduled|           350|              High|\n",
      "|      San Diego| SAN|9:22|UA2480|      San Diego |   United Airlines|B738 (N76526)|Scheduled|           371|              High|\n",
      "|    Los Angeles| BUR|9:26|UA5276|        Burbank |    United Express|E75L (N128SY)|Scheduled|          1434|              High|\n",
      "|         Orange| SNA|9:27|AS3317|      Santa Ana |    Alaska SkyWest|E75L (N195SY)|Scheduled|           247|              High|\n",
      "|         Fresno| FAT|9:30|UA5874|         Fresno |    United Express|CRJ2 (N916EV)|Scheduled|           121|              High|\n",
      "|         Orange| SNA|9:32| UA753|      Santa Ana |   United Airlines|A320 (N468UA)|Scheduled|           247|              High|\n",
      "+---------------+----+----+------+----------------+------------------+-------------+---------+--------------+------------------+\n",
      "only showing top 20 rows\n",
      "\n"
     ]
    }
   ],
   "source": [
    "covid_measure_enriched_in_sfo_arrivals.show()"
   ]
  },
  {
   "cell_type": "code",
   "execution_count": 19,
   "metadata": {
    "pycharm": {
     "name": "#%%\n"
    }
   },
   "outputs": [
    {
     "data": {
      "text/plain": [
       "74"
      ]
     },
     "execution_count": 19,
     "metadata": {},
     "output_type": "execute_result"
    }
   ],
   "source": [
    "covid_measure_enriched_in_sfo_arrivals.select('FLIGHT').distinct().count()"
   ]
  },
  {
   "cell_type": "code",
   "execution_count": 20,
   "metadata": {
    "pycharm": {
     "name": "#%%\n"
    }
   },
   "outputs": [
    {
     "data": {
      "text/plain": [
       "74"
      ]
     },
     "execution_count": 20,
     "metadata": {},
     "output_type": "execute_result"
    }
   ],
   "source": [
    "covid_measure_enriched_in_sfo_arrivals.count()"
   ]
  },
  {
   "cell_type": "code",
   "execution_count": null,
   "metadata": {
    "pycharm": {
     "name": "#%%\n"
    }
   },
   "outputs": [],
   "source": [
    "covid_measure_enriched_in_sfo_arrivals.coalesce(1).write.csv('SFO_Arrivals_From_Within_CA', header=True)"
   ]
  },
  {
   "cell_type": "code",
   "execution_count": 29,
   "metadata": {},
   "outputs": [],
   "source": [
    "covid_measure_enriched_in_sfo_arrivals.filter(col('COVID_MEASURE_TYPE') == 'Low').show() "
   ]
  },
  {
   "cell_type": "code",
   "execution_count": 21,
   "metadata": {
    "scrolled": false
   },
   "outputs": [
    {
     "name": "stdout",
     "output_type": "stream",
     "text": [
      "+--------+----+-----+------+------------+--------------+-------------+---------+--------------+------------------+\n",
      "|  COUNTY|IATA| TIME|FLIGHT|FROM_AIRPORT|       AIRLINE|     AIRCRAFT|   STATUS|14_DAY_AVERAGE|COVID_MEASURE_TYPE|\n",
      "+--------+----+-----+------+------------+--------------+-------------+---------+--------------+------------------+\n",
      "|Humboldt| ACV| 7:38|UA5313|     Arcata |United Express|E75L (N116SY)|Scheduled|             2|               Low|\n",
      "|Humboldt| ACV|15:23|UA5386|     Arcata |United Express|E75L (N120SY)|Scheduled|             2|               Low|\n",
      "+--------+----+-----+------+------------+--------------+-------------+---------+--------------+------------------+\n",
      "\n"
     ]
    }
   ],
   "source": [
    "covid_measure_enriched_in_sfo_arrivals.filter(col('COVID_MEASURE_TYPE') == 'Low').show() "
   ]
  },
  {
   "cell_type": "code",
   "execution_count": 22,
   "metadata": {},
   "outputs": [],
   "source": [
    "df=covid_measure_enriched_in_sfo_arrivals"
   ]
  },
  {
   "cell_type": "markdown",
   "metadata": {},
   "source": [
    "##  Get Flight Count from a given county into San Francisco airport.\n",
    "\n",
    "Get the Flight Count for San Francisco airport per Source airport."
   ]
  },
  {
   "cell_type": "code",
   "execution_count": 24,
   "metadata": {
    "scrolled": false
   },
   "outputs": [
    {
     "name": "stdout",
     "output_type": "stream",
     "text": [
      "+---------------+------------------+----------------+\n",
      "|         COUNTY|COVID_MEASURE_TYPE|SFO_FLIGHT_COUNT|\n",
      "+---------------+------------------+----------------+\n",
      "|    Los Angeles|              High|              30|\n",
      "|      San Diego|              High|              11|\n",
      "|         Orange|              High|               8|\n",
      "|      Riverside|              High|               7|\n",
      "|     Sacramento|              High|               3|\n",
      "| San Bernardino|              High|               3|\n",
      "|San Luis Obispo|            Medium|               2|\n",
      "|       Humboldt|               Low|               2|\n",
      "|  Santa Barbara|            Medium|               2|\n",
      "|         Fresno|              High|               2|\n",
      "|        Alameda|            Medium|               1|\n",
      "|           Kern|            Medium|               1|\n",
      "|    Santa Clara|              High|               1|\n",
      "|         Shasta|            Medium|               1|\n",
      "+---------------+------------------+----------------+\n",
      "\n"
     ]
    }
   ],
   "source": [
    "county_measure_groupedDf = df.groupBy(df['COUNTY'], df['COVID_MEASURE_TYPE'])\\\n",
    "                                                          .agg({'FLIGHT':'count'}).withColumnRenamed(\"count(FLIGHT)\",\"SFO_FLIGHT_COUNT\")\\\n",
    "    .orderBy(col('SFO_FLIGHT_COUNT'), ascending=False)\n",
    "county_measure_groupedDf.show()"
   ]
  },
  {
   "cell_type": "code",
   "execution_count": 27,
   "metadata": {
    "pycharm": {
     "name": "#%%\n"
    }
   },
   "outputs": [],
   "source": [
    "county_measure_groupedDf.coalesce(1).write.csv('CA_County_SFO_FlightCount', header=True)"
   ]
  }
 ],
 "metadata": {
  "kernelspec": {
   "display_name": "Python 3",
   "language": "python",
   "name": "python3"
  },
  "language_info": {
   "codemirror_mode": {
    "name": "ipython",
    "version": 3
   },
   "file_extension": ".py",
   "mimetype": "text/x-python",
   "name": "python",
   "nbconvert_exporter": "python",
   "pygments_lexer": "ipython3",
   "version": "3.6.9"
  },
  "pycharm": {
   "stem_cell": {
    "cell_type": "raw",
    "source": [],
    "metadata": {
     "collapsed": false
    }
   }
  }
 },
 "nbformat": 4,
 "nbformat_minor": 2
}